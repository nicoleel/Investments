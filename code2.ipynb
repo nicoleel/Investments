{
 "cells": [
  {
   "attachments": {},
   "cell_type": "markdown",
   "id": "3ee8545a",
   "metadata": {},
   "source": [
    "## Assignment 2 : stock return distribution and MVF"
   ]
  },
  {
   "cell_type": "markdown",
   "id": "3603519b",
   "metadata": {},
   "source": [
    "## Problem 1"
   ]
  },
  {
   "cell_type": "code",
   "execution_count": 1,
   "id": "89640efe",
   "metadata": {},
   "outputs": [],
   "source": [
    "import numpy as np \n",
    "import matplotlib.pyplot as plt\n",
    "import pandas as pd\n",
    "from scipy.stats import norm\n",
    "from tabulate import tabulate\n",
    "import wrds\n"
   ]
  },
  {
   "cell_type": "code",
   "execution_count": 22,
   "id": "14382468",
   "metadata": {
    "scrolled": true
   },
   "outputs": [
    {
     "name": "stdout",
     "output_type": "stream",
     "text": [
      "Loading library list...\n",
      "Done\n"
     ]
    }
   ],
   "source": [
    "db = wrds.Connection(wrds_username='zak_souid')"
   ]
  },
  {
   "attachments": {},
   "cell_type": "markdown",
   "id": "96747ec3",
   "metadata": {},
   "source": [
    "Because we cannot find Tesla in the database, we use the provided .csv file."
   ]
  },
  {
   "cell_type": "code",
   "execution_count": 3,
   "id": "e77b1ec1",
   "metadata": {
    "scrolled": true
   },
   "outputs": [],
   "source": [
    "data = pd.read_csv('Returns_Stocks.csv', sep=';')"
   ]
  },
  {
   "attachments": {},
   "cell_type": "markdown",
   "id": "0919875c",
   "metadata": {},
   "source": [
    "Generation of the time-serie S"
   ]
  },
  {
   "cell_type": "code",
   "execution_count": 4,
   "id": "4aee137d",
   "metadata": {},
   "outputs": [
    {
     "data": {
      "text/html": [
       "<div>\n",
       "<style scoped>\n",
       "    .dataframe tbody tr th:only-of-type {\n",
       "        vertical-align: middle;\n",
       "    }\n",
       "\n",
       "    .dataframe tbody tr th {\n",
       "        vertical-align: top;\n",
       "    }\n",
       "\n",
       "    .dataframe thead th {\n",
       "        text-align: right;\n",
       "    }\n",
       "</style>\n",
       "<table border=\"1\" class=\"dataframe\">\n",
       "  <thead>\n",
       "    <tr style=\"text-align: right;\">\n",
       "      <th></th>\n",
       "      <th>AAPL</th>\n",
       "      <th>GE</th>\n",
       "      <th>GME</th>\n",
       "      <th>PG</th>\n",
       "      <th>TSLA</th>\n",
       "    </tr>\n",
       "  </thead>\n",
       "  <tbody>\n",
       "    <tr>\n",
       "      <th>2001-01-02</th>\n",
       "      <td>0.000000</td>\n",
       "      <td>-0.087353</td>\n",
       "      <td>NaN</td>\n",
       "      <td>0.000797</td>\n",
       "      <td>NaN</td>\n",
       "    </tr>\n",
       "    <tr>\n",
       "      <th>2001-01-03</th>\n",
       "      <td>0.100840</td>\n",
       "      <td>0.092857</td>\n",
       "      <td>NaN</td>\n",
       "      <td>-0.049363</td>\n",
       "      <td>NaN</td>\n",
       "    </tr>\n",
       "    <tr>\n",
       "      <th>2001-01-04</th>\n",
       "      <td>0.041985</td>\n",
       "      <td>0.005229</td>\n",
       "      <td>NaN</td>\n",
       "      <td>-0.030988</td>\n",
       "      <td>NaN</td>\n",
       "    </tr>\n",
       "    <tr>\n",
       "      <th>2001-01-05</th>\n",
       "      <td>-0.040293</td>\n",
       "      <td>-0.015605</td>\n",
       "      <td>NaN</td>\n",
       "      <td>0.036301</td>\n",
       "      <td>NaN</td>\n",
       "    </tr>\n",
       "    <tr>\n",
       "      <th>2001-01-08</th>\n",
       "      <td>0.011450</td>\n",
       "      <td>-0.036988</td>\n",
       "      <td>NaN</td>\n",
       "      <td>0.021685</td>\n",
       "      <td>NaN</td>\n",
       "    </tr>\n",
       "    <tr>\n",
       "      <th>...</th>\n",
       "      <td>...</td>\n",
       "      <td>...</td>\n",
       "      <td>...</td>\n",
       "      <td>...</td>\n",
       "      <td>...</td>\n",
       "    </tr>\n",
       "    <tr>\n",
       "      <th>2022-12-23</th>\n",
       "      <td>-0.002798</td>\n",
       "      <td>0.000245</td>\n",
       "      <td>-0.017551</td>\n",
       "      <td>0.002825</td>\n",
       "      <td>0.013630</td>\n",
       "    </tr>\n",
       "    <tr>\n",
       "      <th>2022-12-27</th>\n",
       "      <td>-0.013878</td>\n",
       "      <td>0.012838</td>\n",
       "      <td>-0.114089</td>\n",
       "      <td>0.008714</td>\n",
       "      <td>-0.093625</td>\n",
       "    </tr>\n",
       "    <tr>\n",
       "      <th>2022-12-28</th>\n",
       "      <td>-0.030685</td>\n",
       "      <td>-0.010502</td>\n",
       "      <td>0.033089</td>\n",
       "      <td>-0.012926</td>\n",
       "      <td>-0.015385</td>\n",
       "    </tr>\n",
       "    <tr>\n",
       "      <th>2022-12-29</th>\n",
       "      <td>0.028324</td>\n",
       "      <td>0.021715</td>\n",
       "      <td>0.080827</td>\n",
       "      <td>0.004146</td>\n",
       "      <td>0.022879</td>\n",
       "    </tr>\n",
       "    <tr>\n",
       "      <th>2022-12-30</th>\n",
       "      <td>0.002469</td>\n",
       "      <td>0.000478</td>\n",
       "      <td>0.011164</td>\n",
       "      <td>-0.006750</td>\n",
       "      <td>0.007092</td>\n",
       "    </tr>\n",
       "  </tbody>\n",
       "</table>\n",
       "<p>5535 rows × 5 columns</p>\n",
       "</div>"
      ],
      "text/plain": [
       "                AAPL        GE       GME        PG      TSLA\n",
       "2001-01-02  0.000000 -0.087353       NaN  0.000797       NaN\n",
       "2001-01-03  0.100840  0.092857       NaN -0.049363       NaN\n",
       "2001-01-04  0.041985  0.005229       NaN -0.030988       NaN\n",
       "2001-01-05 -0.040293 -0.015605       NaN  0.036301       NaN\n",
       "2001-01-08  0.011450 -0.036988       NaN  0.021685       NaN\n",
       "...              ...       ...       ...       ...       ...\n",
       "2022-12-23 -0.002798  0.000245 -0.017551  0.002825  0.013630\n",
       "2022-12-27 -0.013878  0.012838 -0.114089  0.008714 -0.093625\n",
       "2022-12-28 -0.030685 -0.010502  0.033089 -0.012926 -0.015385\n",
       "2022-12-29  0.028324  0.021715  0.080827  0.004146  0.022879\n",
       "2022-12-30  0.002469  0.000478  0.011164 -0.006750  0.007092\n",
       "\n",
       "[5535 rows x 5 columns]"
      ]
     },
     "execution_count": 4,
     "metadata": {},
     "output_type": "execute_result"
    }
   ],
   "source": [
    "S = pd.DataFrame(data = {'AAPL': data.AAPL.values, 'GE': data.GE.values, 'GME': data.GME.values, 'PG': data.PG.values, 'TSLA': data.TSLA.values }, index =  pd.to_datetime(data.date.values))\n",
    "winsorized_S = S[abs(S) < 0.04]\n",
    "S"
   ]
  },
  {
   "attachments": {},
   "cell_type": "markdown",
   "id": "5b165920",
   "metadata": {},
   "source": [
    "### Point (a) \n",
    "Stocks' mean and variance of daily simple returns."
   ]
  },
  {
   "cell_type": "code",
   "execution_count": 5,
   "id": "6a31173b",
   "metadata": {
    "scrolled": false
   },
   "outputs": [
    {
     "name": "stdout",
     "output_type": "stream",
     "text": [
      "Mean of simple returns:\n",
      " AAPL    0.001409\n",
      "GE      0.000059\n",
      "GME     0.002026\n",
      "PG      0.000421\n",
      "TSLA    0.001590\n",
      "dtype: float64\n"
     ]
    }
   ],
   "source": [
    "mean = S.mean()\n",
    "winsorized_mean = winsorized_S.mean()\n",
    "print('Mean of simple returns:\\n', mean)"
   ]
  },
  {
   "cell_type": "code",
   "execution_count": 6,
   "id": "e8486283",
   "metadata": {
    "scrolled": false
   },
   "outputs": [
    {
     "name": "stdout",
     "output_type": "stream",
     "text": [
      "Standard deviation of simple returns:\n",
      " AAPL    0.022858\n",
      "GE      0.021084\n",
      "GME     0.035991\n",
      "PG      0.011843\n",
      "TSLA    0.050628\n",
      "dtype: float64\n"
     ]
    }
   ],
   "source": [
    "std = S.std()\n",
    "winsorized_std = winsorized_S.std()\n",
    "print('Standard deviation of simple returns:\\n', std)"
   ]
  },
  {
   "attachments": {},
   "cell_type": "markdown",
   "id": "6786d0ed",
   "metadata": {},
   "source": [
    "### Point (b)\n",
    "Empirical density function of stock returns."
   ]
  },
  {
   "cell_type": "code",
   "execution_count": 7,
   "id": "206df214",
   "metadata": {
    "scrolled": true
   },
   "outputs": [
    {
     "data": {
      "image/png": "[encoded data removed]",
      "text/plain": [
       "<Figure size 432x288 with 1 Axes>"
      ]
     },
     "metadata": {
      "needs_background": "light"
     },
     "output_type": "display_data"
    }
   ],
   "source": [
    "S.AAPL.plot.hist(bins=100,density=True,label='empirical density')\n",
    "x = np.arange(-0.2, 0.2, 0.001)\n",
    "plt.plot(x, norm.pdf(x, mean.AAPL, std.AAPL), color='green')\n",
    "plt.plot(x, norm.pdf(x, winsorized_mean.AAPL, winsorized_std.AAPL), color='red')\n",
    "plt.title('AAPL')\n",
    "plt.show()"
   ]
  },
  {
   "cell_type": "code",
   "execution_count": 8,
   "id": "5f9a5493",
   "metadata": {
    "scrolled": true
   },
   "outputs": [
    {
     "data": {
      "image/png": "[encoded data removed]",
      "text/plain": [
       "<Figure size 432x288 with 1 Axes>"
      ]
     },
     "metadata": {
      "needs_background": "light"
     },
     "output_type": "display_data"
    }
   ],
   "source": [
    "S.GE.plot.hist(bins=100,density=True,label='empirical density')\n",
    "x = np.arange(-0.2, 0.2, 0.001)\n",
    "plt.plot(x, norm.pdf(x, mean.GE, std.GE), color='green')\n",
    "plt.plot(x, norm.pdf(x, winsorized_mean.GE, winsorized_std.GE), color='red')\n",
    "plt.title('GE')\n",
    "plt.show()"
   ]
  },
  {
   "cell_type": "code",
   "execution_count": 9,
   "id": "1d5848e7",
   "metadata": {
    "scrolled": false
   },
   "outputs": [
    {
     "data": {
      "image/png": "[encoded data removed]",
      "text/plain": [
       "<Figure size 432x288 with 1 Axes>"
      ]
     },
     "metadata": {
      "needs_background": "light"
     },
     "output_type": "display_data"
    }
   ],
   "source": [
    "S.GME.plot.hist(bins=100,density=True,label='empirical density')\n",
    "x = np.arange(-0.2, 0.2, 0.001)\n",
    "plt.plot(x, norm.pdf(x, mean.GME, std.GME), color='green')\n",
    "plt.plot(x, norm.pdf(x, winsorized_mean.GME, winsorized_std.GME), color='red')\n",
    "plt.title('GME')\n",
    "plt.show()"
   ]
  },
  {
   "cell_type": "code",
   "execution_count": 10,
   "id": "c5ca4695",
   "metadata": {
    "scrolled": true
   },
   "outputs": [
    {
     "data": {
      "image/png": "[encoded data removed]",
      "text/plain": [
       "<Figure size 432x288 with 1 Axes>"
      ]
     },
     "metadata": {
      "needs_background": "light"
     },
     "output_type": "display_data"
    }
   ],
   "source": [
    "S.PG.plot.hist(bins=100,density=True,label='empirical density')\n",
    "x = np.arange(-0.2, 0.2, 0.001)\n",
    "plt.plot(x, norm.pdf(x, mean.PG, std.PG), color='green')\n",
    "plt.plot(x, norm.pdf(x, winsorized_mean.PG, winsorized_std.PG), color='red')\n",
    "plt.title('PG')\n",
    "plt.show()"
   ]
  },
  {
   "cell_type": "code",
   "execution_count": 11,
   "id": "5f75cd2a",
   "metadata": {
    "scrolled": false
   },
   "outputs": [
    {
     "data": {
      "image/png": "[encoded data removed]",
      "text/plain": [
       "<Figure size 432x288 with 1 Axes>"
      ]
     },
     "metadata": {
      "needs_background": "light"
     },
     "output_type": "display_data"
    }
   ],
   "source": [
    "S.TSLA.plot.hist(bins=100,density=True,label='empirical density')\n",
    "x = np.arange(-0.2, 0.2, 0.001)\n",
    "plt.plot(x, norm.pdf(x, mean.TSLA, std.TSLA), color='green')\n",
    "plt.plot(x, norm.pdf(x, winsorized_mean.TSLA, winsorized_std.TSLA), color='red')\n",
    "plt.title('TSLA')\n",
    "plt.show()"
   ]
  },
  {
   "cell_type": "markdown",
   "id": "ffe3b781",
   "metadata": {},
   "source": [
    "For all the stocks the normal distribution with mean and variance of the ‘winsorized’ empirical distribution is a better approximation of our empirical density function than the normal distribution with the same mean and variance as the empirical distribution."
   ]
  },
  {
   "attachments": {},
   "cell_type": "markdown",
   "id": "7a85ade4",
   "metadata": {},
   "source": [
    "### Point (c)\n",
    "Value-at-risk and conditional expectation shortfall."
   ]
  },
  {
   "cell_type": "code",
   "execution_count": 12,
   "id": "2c0fa0ad",
   "metadata": {},
   "outputs": [],
   "source": [
    "S.sort_values(by = ['AAPL', 'GE', 'GME', 'PG', 'TSLA'],inplace = True, ascending = True)"
   ]
  },
  {
   "cell_type": "code",
   "execution_count": 13,
   "id": "baee3c1c",
   "metadata": {
    "scrolled": false
   },
   "outputs": [],
   "source": [
    "# normal distribution Var and expected shortfall\n",
    "Var_95_normal = norm.ppf(1-0.95, mean, std)\n",
    "Var_99_normal = norm.ppf(1-0.99, mean, std)\n",
    "CVaR_95_normal = S[S <= Var_95_normal].mean()\n",
    "CVaR_99_normal = S[S <= Var_99_normal].mean()\n",
    "\n",
    "# empirical Var and expected shortfall\n",
    "S.sort_values(by = ['AAPL', 'GE', 'GME', 'PG', 'TSLA'],inplace = True, ascending = True)\n",
    "Var_95_empirical = S.quantile(0.05)\n",
    "Var_99_empirical = S.quantile(0.01)\n",
    "CVaR_95_empirical = S[S <= Var_95_empirical].mean()\n",
    "CVaR_99_empirical = S[S <= Var_99_empirical].mean()"
   ]
  },
  {
   "cell_type": "markdown",
   "id": "523fde45",
   "metadata": {},
   "source": [
    "Results of VaRs and expected shortfalls from the normal distribution with mean and variance as the empirical distribution."
   ]
  },
  {
   "cell_type": "code",
   "execution_count": 14,
   "id": "823e15c6",
   "metadata": {
    "scrolled": false
   },
   "outputs": [
    {
     "name": "stdout",
     "output_type": "stream",
     "text": [
      "╒═════════╤═══════════════╤═══════════════╤════════════════╤════════════════╕\n",
      "│  Stock  │  VaR 95% (%)  │  VaR 99% (%)  │  CVaR 95% (%)  │  CVaR 99% (%)  │\n",
      "╞═════════╪═══════════════╪═══════════════╪════════════════╪════════════════╡\n",
      "│  AAPL   │     -3.62     │     -5.18     │     -5.23      │     -7.07      │\n",
      "├─────────┼───────────────┼───────────────┼────────────────┼────────────────┤\n",
      "│   GE    │     -3.46     │     -4.90     │     -5.44      │     -7.11      │\n",
      "├─────────┼───────────────┼───────────────┼────────────────┼────────────────┤\n",
      "│   GME   │     -5.72     │     -8.17     │     -8.55      │     -11.55     │\n",
      "├─────────┼───────────────┼───────────────┼────────────────┼────────────────┤\n",
      "│   PG    │     -1.91     │     -2.71     │     -3.06      │     -4.01      │\n",
      "├─────────┼───────────────┼───────────────┼────────────────┼────────────────┤\n",
      "│  TSLA   │     -8.17     │    -11.62     │     -13.97     │     -20.34     │\n",
      "╘═════════╧═══════════════╧═══════════════╧════════════════╧════════════════╛\n"
     ]
    }
   ],
   "source": [
    "print(tabulate([['AAPL', np.round(Var_95_normal[0]*100,3), np.round(Var_99_normal[0]*100,3), np.round(CVaR_95_normal[0]*100,3), np.round(CVaR_99_normal[0]*100,3)],\n",
    "                ['GE', np.round(Var_95_normal[1]*100,3), np.round(Var_99_normal[1]*100,3), np.round(CVaR_95_normal[1]*100,3), np.round(CVaR_99_normal[1]*100,3)],\n",
    "                ['GME', np.round(Var_95_normal[2]*100,3), np.round(Var_99_normal[2]*100,3), np.round(CVaR_95_normal[2]*100,3), np.round(CVaR_99_normal[2]*100,3)],\n",
    "                ['PG', np.round(Var_95_normal[3]*100,3), np.round(Var_99_normal[3]*100,3), np.round(CVaR_95_normal[3]*100,3), np.round(CVaR_99_normal[3]*100,3)],\n",
    "                ['TSLA', np.round(Var_95_normal[4]*100,3), np.round(Var_99_normal[4]*100,3), np.round(CVaR_95_normal[4]*100,3), np.round(CVaR_99_normal[4]*100,3)]], \n",
    "                headers=['Stock','VaR 95% (%)', 'VaR 99% (%)','CVaR 95% (%)', 'CVaR 99% (%)'],tablefmt = 'fancy_grid',stralign = 'center', numalign= 'center',floatfmt=\".2f\"))"
   ]
  },
  {
   "cell_type": "markdown",
   "id": "c7fc08f4",
   "metadata": {},
   "source": [
    "Results of VaRs and expected shortfalls from the empirical distribution."
   ]
  },
  {
   "cell_type": "code",
   "execution_count": 15,
   "id": "21b4b2e8",
   "metadata": {},
   "outputs": [
    {
     "name": "stdout",
     "output_type": "stream",
     "text": [
      "╒═════════╤═══════════════╤═══════════════╤════════════════╤════════════════╕\n",
      "│  Stock  │  VaR 95% (%)  │  VaR 99% (%)  │  CVaR 95% (%)  │  CVaR 99% (%)  │\n",
      "╞═════════╪═══════════════╪═══════════════╪════════════════╪════════════════╡\n",
      "│  AAPL   │     -3.41     │     -5.76     │     -5.02      │     -7.93      │\n",
      "├─────────┼───────────────┼───────────────┼────────────────┼────────────────┤\n",
      "│   GE    │     -3.10     │     -6.12     │     -5.00      │     -8.43      │\n",
      "├─────────┼───────────────┼───────────────┼────────────────┼────────────────┤\n",
      "│   GME   │     -5.11     │     -9.00     │     -7.89      │     -12.74     │\n",
      "├─────────┼───────────────┼───────────────┼────────────────┼────────────────┤\n",
      "│   PG    │     -1.68     │     -3.34     │     -2.77      │     -4.72      │\n",
      "├─────────┼───────────────┼───────────────┼────────────────┼────────────────┤\n",
      "│  TSLA   │     -5.07     │    -10.68     │     -8.79      │     -17.19     │\n",
      "╘═════════╧═══════════════╧═══════════════╧════════════════╧════════════════╛\n"
     ]
    }
   ],
   "source": [
    "print(tabulate([['AAPL', np.round(Var_95_empirical[0]*100,3), np.round(Var_99_empirical[0]*100,3), np.round(CVaR_95_empirical[0]*100,3), np.round(CVaR_99_empirical[0]*100,3)],\n",
    "                ['GE', np.round(Var_95_empirical[1]*100,3), np.round(Var_99_empirical[1]*100,3), np.round(CVaR_95_empirical[1]*100,3), np.round(CVaR_99_empirical[1]*100,3)],\n",
    "                ['GME', np.round(Var_95_empirical[2]*100,3), np.round(Var_99_empirical[2]*100,3), np.round(CVaR_95_empirical[2]*100,3), np.round(CVaR_99_empirical[2]*100,3)],\n",
    "                ['PG', np.round(Var_95_empirical[3]*100,3), np.round(Var_99_empirical[3]*100,3), np.round(CVaR_95_empirical[3]*100,3), np.round(CVaR_99_empirical[3]*100,3)],\n",
    "                ['TSLA', np.round(Var_95_empirical[4]*100,3), np.round(Var_99_empirical[4]*100,3), np.round(CVaR_95_empirical[4]*100,3), np.round(CVaR_99_empirical[4]*100,3)]], \n",
    "                headers=['Stock','VaR 95% (%)', 'VaR 99% (%)','CVaR 95% (%)', 'CVaR 99% (%)'],tablefmt = 'fancy_grid',stralign = 'center', numalign= 'center',floatfmt=\".2f\"))"
   ]
  },
  {
   "attachments": {},
   "cell_type": "markdown",
   "id": "fd6d0ba6",
   "metadata": {},
   "source": [
    "### Point (d)"
   ]
  },
  {
   "attachments": {},
   "cell_type": "markdown",
   "id": "b06e6032",
   "metadata": {},
   "source": [
    "The normal distribution doesn't seem to describe appropriately the distribution of daily stock returns: from the charts it's clear that the normal distribution underestimates the empirical distribution for central values and overestimates the empirical distribution for tail values (the tails of the empirical distribution is wider than the tail of its normal estimation).\n",
    "From the tables, we can notice that VaRs and expected shortfalls are, in absolute value, bigger for the normal distribution than for the empirical one. \n",
    "\n",
    "With the windsorized data we filter out the \"extreme moves\", and it fit well the center of the distribution but underestimate the probability of large moves.\n",
    "\n",
    "A more accurate model of daily stock returns could have a brownian motion calibrated to match the returns without the large moves. \n",
    "Then, we would add separately the large but infrequent moves by adding jumps to the stochastic process.\n"
   ]
  },
  {
   "attachments": {},
   "cell_type": "markdown",
   "id": "a16bb563",
   "metadata": {},
   "source": [
    "### Point (e)\n",
    "Comparison of results in Point (b) with empirical density function of 2-year and 10-year bond returns.   "
   ]
  },
  {
   "cell_type": "code",
   "execution_count": 16,
   "id": "55afee63",
   "metadata": {},
   "outputs": [],
   "source": [
    "data_bonds = pd.read_csv('Returns_Bonds.csv', sep=';')"
   ]
  },
  {
   "cell_type": "code",
   "execution_count": 17,
   "id": "bb1202ef",
   "metadata": {},
   "outputs": [],
   "source": [
    "S_bonds = pd.DataFrame(data = {'two': data_bonds.b2ret.values, 'ten': data_bonds.b10ret.values}, index =  pd.to_datetime(data_bonds.date.values))\n",
    "winsorized_S_bonds = S_bonds[abs(S_bonds) < 0.04]"
   ]
  },
  {
   "cell_type": "code",
   "execution_count": 18,
   "id": "5a7825c0",
   "metadata": {},
   "outputs": [],
   "source": [
    "mean_bonds = S_bonds.mean()\n",
    "winsorized_mean_bonds = winsorized_S_bonds.mean()\n",
    "std_bonds = S_bonds.std()\n",
    "winsorized_std_bonds = winsorized_S_bonds.std()"
   ]
  },
  {
   "cell_type": "code",
   "execution_count": 19,
   "id": "afa5ed2d",
   "metadata": {
    "scrolled": true
   },
   "outputs": [
    {
     "data": {
      "image/png": "[encoded data removed]",
      "text/plain": [
       "<Figure size 432x288 with 1 Axes>"
      ]
     },
     "metadata": {
      "needs_background": "light"
     },
     "output_type": "display_data"
    }
   ],
   "source": [
    "S_bonds.two.plot.hist(bins=100,density=True,label='empirical density')\n",
    "x = np.arange(-0.1, 0.1, 0.001)\n",
    "plt.plot(x, norm.pdf(x, mean_bonds.two, std_bonds.two), color='green')\n",
    "plt.plot(x, norm.pdf(x, winsorized_mean_bonds.two, winsorized_std_bonds.two), color='red')\n",
    "plt.title('Two years bond')\n",
    "plt.show()"
   ]
  },
  {
   "cell_type": "code",
   "execution_count": 20,
   "id": "4b760536",
   "metadata": {
    "scrolled": true
   },
   "outputs": [
    {
     "data": {
      "image/png": "[encoded data removed]",
      "text/plain": [
       "<Figure size 432x288 with 1 Axes>"
      ]
     },
     "metadata": {
      "needs_background": "light"
     },
     "output_type": "display_data"
    }
   ],
   "source": [
    "S_bonds.ten.plot.hist(bins=100,density=True,label='empirical density')\n",
    "x = np.arange(-0.2, 0.2, 0.001)\n",
    "plt.plot(x, norm.pdf(x, mean_bonds.ten, std_bonds.ten), color='green')\n",
    "plt.plot(x, norm.pdf(x, winsorized_mean_bonds.ten, winsorized_std_bonds.ten), color='red')\n",
    "plt.title('Ten years bond')\n",
    "plt.show()"
   ]
  },
  {
   "attachments": {},
   "cell_type": "markdown",
   "id": "62c8b731",
   "metadata": {},
   "source": [
    "In the case of the two-year treasury bond there is no difference between the normal distribution with mean and variance of the empirical distribution and the normal distribution with mean and variance of the ‘winsorized’ empirical distribution; the normal distribution results in a good approximation of the empirical one (except for some outliars).\\\n",
    "In the case of the ten-year treasury bond there is difference between the two normal distribution; these are quite close or at least closer than we saw for stock returns. Anyway, as before, the normal distribution with mean and variance of the ‘winsorized’ empirical distribution is a better approximation of the empirical distribution that the other one.\\\n",
    "Bond returns depends on interest rates that usually don't change so much in a fixed period; stock returns are effected by lots of factors that are also specific to the firm we are considering and that are more difficult to predict. Maybe this is the reason why the normal distribution is not a good approximation of stock returns.\n",
    "\n",
    "However it hard to decide if the normal pdf is a good descritpion for the bonds return, because there is not enough data to render a good histogram estimate of the density function. Compared to the daily sotck return time there is 20 times less data. However like (c), the VaR and Expected shortfall normal estimates are lower than the empiricals statistics, this is a hint that the normal pdf does not describe well the tails events for both stock and bonds return. Although the error is lower for the 10 year bond."
   ]
  },
  {
   "cell_type": "markdown",
   "id": "eed13e8d",
   "metadata": {},
   "source": [
    "## Problem 2 "
   ]
  },
  {
   "cell_type": "code",
   "execution_count": 24,
   "id": "ed8ff651",
   "metadata": {},
   "outputs": [],
   "source": [
    "aapl = db.raw_sql(\"select date, ret from crsp.dsf where permco in (7) and date >= '2000-01-01' and date <= '2022-12-31'\")\n",
    "pg = db.raw_sql(\"select date, ret from crsp.dsf where permco in (21446) and date >= '2000-01-01' and date <= '2022-12-31'\")\n",
    "# these are daily returns, we need weekly returns"
   ]
  },
  {
   "cell_type": "code",
   "execution_count": 25,
   "id": "e826186d",
   "metadata": {},
   "outputs": [],
   "source": [
    "S = pd.DataFrame(data = {'AAPL': aapl['ret'].values , 'PG': pg['ret'].values},\n",
    "                 index =  pd.to_datetime(aapl['date'].values))"
   ]
  },
  {
   "cell_type": "code",
   "execution_count": 26,
   "id": "cdecf7ef",
   "metadata": {},
   "outputs": [],
   "source": [
    "r_f = 0.015"
   ]
  },
  {
   "attachments": {},
   "cell_type": "markdown",
   "id": "5b39fe2c",
   "metadata": {},
   "source": [
    "### Point (a)\n",
    "Estimation of the expected return, the standard deviation for each stock and the correlation between them."
   ]
  },
  {
   "attachments": {},
   "cell_type": "markdown",
   "id": "d47ae506",
   "metadata": {},
   "source": [
    "We use the formula of the simple returns over k period:\n",
    "$R_t(k)=\\prod_{j=0}^{k-1}(1+R_{t-j})-1$\n",
    "to compute the weekly returns:"
   ]
  },
  {
   "cell_type": "code",
   "execution_count": 27,
   "id": "4d0819d1",
   "metadata": {},
   "outputs": [],
   "source": [
    "S = (1+S).resample('W').prod()-1 "
   ]
  },
  {
   "cell_type": "code",
   "execution_count": 28,
   "id": "d9dc6979",
   "metadata": {
    "scrolled": true
   },
   "outputs": [
    {
     "name": "stdout",
     "output_type": "stream",
     "text": [
      "The expected returns for Apple and Procter and Gamble are respectively: 0.296 , 0.094 .\n"
     ]
    }
   ],
   "source": [
    "aapl_mean = round(S.AAPL.mean()*52,3)\n",
    "pg_mean = round(S.PG.mean()*52,3)\n",
    "print('The expected returns for Apple and Procter and Gamble are respectively:', aapl_mean, ',', pg_mean, '.')"
   ]
  },
  {
   "cell_type": "code",
   "execution_count": 29,
   "id": "2c1fef43",
   "metadata": {
    "scrolled": true
   },
   "outputs": [
    {
     "name": "stdout",
     "output_type": "stream",
     "text": [
      "The standard deviations for Apple and Procter and Gamble are respectively: 0.376 , 0.208 .\n"
     ]
    }
   ],
   "source": [
    "aapl_std = round(S.AAPL.std()*np.sqrt(52),3)\n",
    "pg_std = round(S.PG.std()*np.sqrt(52),3)\n",
    "print('The standard deviations for Apple and Procter and Gamble are respectively:', aapl_std, ',', pg_std, '.')"
   ]
  },
  {
   "cell_type": "code",
   "execution_count": 32,
   "id": "06537a57",
   "metadata": {
    "scrolled": false
   },
   "outputs": [
    {
     "name": "stdout",
     "output_type": "stream",
     "text": [
      "The correlation between stocks is: 0.106 .\n"
     ]
    }
   ],
   "source": [
    "corr=S.corr().at['AAPL','PG']\n",
    "print('The correlation between stocks is:', round(corr,3),'.')"
   ]
  },
  {
   "attachments": {},
   "cell_type": "markdown",
   "id": "e5433b70",
   "metadata": {},
   "source": [
    "### Point (b) \n",
    "Mean-standard deviation frontier combining the two risky assets."
   ]
  },
  {
   "cell_type": "code",
   "execution_count": 33,
   "id": "3c2db75e",
   "metadata": {},
   "outputs": [],
   "source": [
    "# weight: part of the wealth invested in Apple\n",
    "# 1 - weight: part of the wealth invested in Procter and Gamble\n",
    "weight = np.linspace(start=0, stop=1.01, num=1000)\n",
    "# frontier where only weight between 0 and 1 are ammissible \n",
    "expected_return = weight * aapl_mean + (1-weight) * pg_mean\n",
    "# expected return of the two risky assets porfolio\n",
    "standard_deviation = np.sqrt(weight ** 2 * aapl_std ** 2 + (1 - weight) ** 2 * pg_std ** 2 + 2 * weight * (1-weight) * corr * aapl_std * pg_std)\n",
    "# standard deviation of the two risky assets portfolio"
   ]
  },
  {
   "cell_type": "code",
   "execution_count": 34,
   "id": "de31e3c6",
   "metadata": {},
   "outputs": [],
   "source": [
    "weight_short = np.linspace(start=-0.7, stop=1.5, num=1000)\n",
    "# frontier where an investor can short sell\n",
    "expected_return_short = weight_short * aapl_mean + (1-weight_short) * pg_mean\n",
    "standard_deviation_short = np.sqrt(weight_short ** 2 * aapl_std ** 2 + (1 - weight_short) ** 2 * pg_std ** 2 + 2 * weight_short * (1-weight_short) * corr * aapl_std * pg_std)"
   ]
  },
  {
   "cell_type": "code",
   "execution_count": 35,
   "id": "5491c4eb",
   "metadata": {
    "scrolled": true
   },
   "outputs": [
    {
     "data": {
      "text/plain": [
       "<function matplotlib.pyplot.show(close=None, block=None)>"
      ]
     },
     "execution_count": 35,
     "metadata": {},
     "output_type": "execute_result"
    },
    {
     "data": {
      "image/png": "[encoded data removed]",
      "text/plain": [
       "<Figure size 432x288 with 1 Axes>"
      ]
     },
     "metadata": {
      "needs_background": "light"
     },
     "output_type": "display_data"
    }
   ],
   "source": [
    "plt.plot(standard_deviation, expected_return, linestyle='-', c='red')\n",
    "plt.plot(standard_deviation_short, expected_return_short, linestyle='--', c='red')\n",
    "plt.plot(aapl_std,aapl_mean,'ro')\n",
    "plt.annotate('AAPL', (aapl_std, aapl_mean), xytext=(aapl_std-0.01,aapl_mean-0.02))\n",
    "plt.plot(pg_std,pg_mean,'ro')\n",
    "plt.annotate('PG', (pg_std, pg_mean), xytext=(pg_std-0.01,pg_mean-0.02))\n",
    "plt.xlabel('standard deviation')\n",
    "plt.ylabel('expected return')\n",
    "plt.title('Mean-standard deviation frontier')\n",
    "plt.grid(True)\n",
    "plt.show"
   ]
  },
  {
   "attachments": {},
   "cell_type": "markdown",
   "id": "a60b4b3a",
   "metadata": {},
   "source": [
    "### Point (c)\n",
    "Computation of the portfolio weights of the global minimum variance portfolio and its expected return, standard deviation, and sharpe Ratio."
   ]
  },
  {
   "attachments": {},
   "cell_type": "markdown",
   "id": "07d635f8",
   "metadata": {},
   "source": [
    "We use the formula of the lecture to find the optimal weight for minimum global variance:\n",
    "    $w_{A,min}=\\frac{\\sigma_B^2-\\rho\\sigma_A\\sigma_B}{\\sigma_A^2+\\sigma_B^2-2\\rho\\sigma_A\\sigma_B}$"
   ]
  },
  {
   "cell_type": "code",
   "execution_count": 41,
   "id": "f7fb9752",
   "metadata": {},
   "outputs": [
    {
     "name": "stdout",
     "output_type": "stream",
     "text": [
      "The global minimum portfolio variance invests 20.81 % in Apple and 79.19 % in Procter and Gamble.\n",
      "Global minumim portfolio expected return and standard deviation are respectively: 0.14 , 0.19 .\n",
      "The sharpe ratio of our portfolio is: 0.6381113813598136 .\n"
     ]
    }
   ],
   "source": [
    "w_opt=(pg_std**2-corr*aapl_std*pg_std)/(aapl_std**2+pg_std**2-2*corr*aapl_std*pg_std)\n",
    "Expreturn_opt=w_opt*aapl_mean+(1-w_opt)*pg_mean\n",
    "std_opt=np.sqrt(w_opt**2*aapl_std**2+(1-w_opt)**2*pg_std**2+2*w_opt*(1-w_opt)*aapl_std*pg_std*corr)\n",
    "SR=(Expreturn_opt-r_f)/std_opt\n",
    "\n",
    "\n",
    "print('The global minimum portfolio variance invests', round(w_opt * 100,2),'% in Apple and', round((1-w_opt)*100,2), '% in Procter and Gamble.')\n",
    "print('Global minumim portfolio expected return and standard deviation are respectively:', round(Expreturn_opt,2), ',', round(std_opt,2),'.')\n",
    "print('The sharpe ratio of our portfolio is:', SR,'.')"
   ]
  },
  {
   "cell_type": "markdown",
   "id": "2b0ab6f0",
   "metadata": {},
   "source": [
    "Point (d): \\\n",
    "Mean-standard deviation frontier combining the two risky asset and the risk-free asset."
   ]
  },
  {
   "cell_type": "code",
   "execution_count": 42,
   "id": "27ba4c97",
   "metadata": {},
   "outputs": [],
   "source": [
    "sharpe_ratio = (expected_return-r_f)/standard_deviation\n",
    "optimal_sharpe = sharpe_ratio.max()\n",
    "# index_tan = np.argmax(sharpe_ratio)\n",
    "x = np.linspace(start=0, stop=0.6, num=1000)\n",
    "y = r_f + optimal_sharpe * x"
   ]
  },
  {
   "cell_type": "code",
   "execution_count": 44,
   "id": "f72d0b2c",
   "metadata": {
    "scrolled": true
   },
   "outputs": [
    {
     "data": {
      "text/plain": [
       "<function matplotlib.pyplot.show(close=None, block=None)>"
      ]
     },
     "execution_count": 44,
     "metadata": {},
     "output_type": "execute_result"
    },
    {
     "data": {
      "image/png": "[encoded data removed]",
      "text/plain": [
       "<Figure size 432x288 with 1 Axes>"
      ]
     },
     "metadata": {
      "needs_background": "light"
     },
     "output_type": "display_data"
    }
   ],
   "source": [
    "plt.plot(standard_deviation, expected_return, linestyle='-', c='red')\n",
    "plt.plot(standard_deviation_short, expected_return_short, linestyle='--', c='red')\n",
    "plt.plot(x, y, linestyle='-',c='blue')\n",
    "plt.plot(aapl_std,aapl_mean,'ro')\n",
    "plt.annotate('AAPL', (aapl_std, aapl_mean), xytext=(aapl_std-0.01,aapl_mean-0.02))\n",
    "plt.plot(pg_std,pg_mean,'ro')\n",
    "plt.annotate('PG', (pg_std, pg_mean), xytext=(pg_std-0.01,pg_mean-0.02))\n",
    "plt.xlabel('standard deviation')\n",
    "plt.ylabel('expected return')\n",
    "plt.title('Mean-standard deviation frontier with two risky assets and one risk-free asset')\n",
    "plt.grid(True)\n",
    "plt.show"
   ]
  },
  {
   "attachments": {},
   "cell_type": "markdown",
   "id": "29787b55",
   "metadata": {},
   "source": [
    "### Point (e)\n",
    "Correlation between Apple’s and P&G’s return from 2010 to 2020."
   ]
  },
  {
   "cell_type": "code",
   "execution_count": 45,
   "id": "23e0ecea",
   "metadata": {
    "scrolled": true
   },
   "outputs": [
    {
     "name": "stdout",
     "output_type": "stream",
     "text": [
      "The correlation between Apple and Procter and Gamble from 2010 is: 0.233 .\n"
     ]
    }
   ],
   "source": [
    "corr_10_20 = S.PG[(S.PG.index>'2009-12-31') & (S.PG.index<'2020-01-01')].corr(S.AAPL[(S.AAPL.index>'2009-12-31') & (S.AAPL.index<'2020-01-01')])\n",
    "print('The correlation between Apple and Procter and Gamble from 2010 is:', round(corr_10_20,3),'.')"
   ]
  },
  {
   "cell_type": "markdown",
   "id": "ed147f90",
   "metadata": {},
   "source": [
    "Taking only data from 2010 to 2020, the correlation between Apple and Procter and Gamble increases with respect to the one that consider data from 2000. Holding everything else equal, the lower the correlation between stocks the lower the volatility of the minimum variance portfolio. "
   ]
  },
  {
   "attachments": {},
   "cell_type": "markdown",
   "id": "3bf5805b",
   "metadata": {},
   "source": [
    "### Point (f)\n",
    "Optimal portfolio when the investor is targeting a standard deviation of 20%."
   ]
  },
  {
   "cell_type": "code",
   "execution_count": 48,
   "id": "7f6b779c",
   "metadata": {
    "scrolled": true
   },
   "outputs": [
    {
     "name": "stdout",
     "output_type": "stream",
     "text": [
      "The optimal weight for the risk-free asset, Apple and Procter and Gamble are respectively: 0.165 , 0.472 , 0.363 .\n",
      "The mean return of the optimal portfolio is 0.18 and its sharpe ratio is 0.806\n"
     ]
    }
   ],
   "source": [
    "optimal_std = 0.2\n",
    "optimal_mean_return = r_f + optimal_sharpe * optimal_std\n",
    "index_tan = np.argmax(sharpe_ratio)\n",
    "mean_tan = expected_return[index_tan]\n",
    "std_tan = standard_deviation[index_tan]\n",
    "weight_tan = (optimal_mean_return - r_f)/(mean_tan - r_f)\n",
    "# weight_tan is the proportion of the wealth that the investor invests in the tangent portfolio\n",
    "# 1 - weight_tan is the proportion of the wealth that the investor invests in the risk free rate \n",
    "weight_apple = weight_tan * weight[index_tan]\n",
    "weight_pg = weight_tan * (1 - weight[index_tan])\n",
    "weight_rf = 1 - weight_tan\n",
    "\n",
    "print('The optimal weight for the risk-free asset, Apple and Procter and Gamble are respectively:', round(weight_rf,3), ',', round(weight_apple,3), ',', round(weight_pg,3), '.')\n",
    "\n",
    "print('The mean return of the optimal portfolio is', round(optimal_mean_return,2), 'and its sharpe ratio is', round(optimal_sharpe,3))\n"
   ]
  },
  {
   "attachments": {},
   "cell_type": "markdown",
   "id": "262a9e3b",
   "metadata": {},
   "source": [
    "### Point (g)\n",
    "Optimal portfolio when the investor is targeting a 99% Var of -10%."
   ]
  },
  {
   "cell_type": "code",
   "execution_count": 49,
   "id": "03a41826",
   "metadata": {},
   "outputs": [
    {
     "data": {
      "text/plain": [
       "(array([3125, 3126, 3127]),)"
      ]
     },
     "execution_count": 49,
     "metadata": {},
     "output_type": "execute_result"
    }
   ],
   "source": [
    "# we call: \n",
    "# weight_p the proportion of wealth that I want to put in the tangency portfolio such that VaR=-10%\n",
    "# mean_p the mean of the portfolio that will have VaR=-10%\n",
    "# std_p the std of the portfolio that will have VaR=-10%\n",
    "weight_p = np.linspace(start=0, stop=1.01, num=10000)\n",
    "mean_p = r_f + optimal_sharpe * weight_p * std_tan\n",
    "std_p = weight_p * std_tan\n",
    "Var_99 = -0.1\n",
    "Var = np.zeros(len(weight_p))\n",
    "for i in range(len(weight_p)):\n",
    "    Var[i] = round(norm.ppf(1-0.99, mean_p[i], std_p[i]),4)\n",
    "index_p = np.where(Var == Var_99)\n",
    "index_p"
   ]
  },
  {
   "cell_type": "code",
   "execution_count": 50,
   "id": "fe84c518",
   "metadata": {
    "scrolled": true
   },
   "outputs": [
    {
     "data": {
      "text/plain": [
       "0.31565656565656564"
      ]
     },
     "execution_count": 50,
     "metadata": {},
     "output_type": "execute_result"
    }
   ],
   "source": [
    "weight_p[3125]"
   ]
  },
  {
   "cell_type": "code",
   "execution_count": 51,
   "id": "4e4880f0",
   "metadata": {
    "scrolled": true
   },
   "outputs": [
    {
     "data": {
      "text/plain": [
       "0.31575757575757574"
      ]
     },
     "execution_count": 51,
     "metadata": {},
     "output_type": "execute_result"
    }
   ],
   "source": [
    "weight_p[3126]"
   ]
  },
  {
   "cell_type": "code",
   "execution_count": 52,
   "id": "36c6da84",
   "metadata": {
    "scrolled": true
   },
   "outputs": [
    {
     "data": {
      "text/plain": [
       "0.31686868686868686"
      ]
     },
     "execution_count": 52,
     "metadata": {},
     "output_type": "execute_result"
    }
   ],
   "source": [
    "weight_p[3137]"
   ]
  },
  {
   "cell_type": "markdown",
   "id": "56a6c9ea",
   "metadata": {},
   "source": [
    "The optimal weight in the tangency portfolio is 32%. "
   ]
  }
 ],
 "metadata": {
  "kernelspec": {
   "display_name": "base",
   "language": "python",
   "name": "python3"
  },
  "language_info": {
   "codemirror_mode": {
    "name": "ipython",
    "version": 3
   },
   "file_extension": ".py",
   "mimetype": "text/x-python",
   "name": "python",
   "nbconvert_exporter": "python",
   "pygments_lexer": "ipython3",
   "version": "3.9.7"
  },
  "vscode": {
   "interpreter": {
    "hash": "bbc8a024906eaa29a5f5588253fc52195dbe65aa3209ac09e611169ae27c1fa5"
   }
  }
 },
 "nbformat": 4,
 "nbformat_minor": 5
}
